{
 "cells": [
  {
   "cell_type": "code",
   "execution_count": 1,
   "metadata": {},
   "outputs": [],
   "source": [
    "import sys\n",
    "import os\n",
    "import pandas as pd\n",
    "import numpy as np\n",
    "import matplotlib.pyplot as plt\n",
    "import sklearn\n",
    "import sklearn.preprocessing\n",
    "import sklearn.model_selection\n",
    "from sklearn.linear_model import LogisticRegression, LinearRegression\n",
    "from sklearn.ensemble import RandomForestClassifier, GradientBoostingClassifier, RandomForestRegressor, GradientBoostingRegressor"
   ]
  },
  {
   "cell_type": "code",
   "execution_count": 2,
   "metadata": {},
   "outputs": [],
   "source": [
    "def cross_validation_split(data, num_sections, iteration): #split data into num_sections for cross validation\n",
    "    cross_val_sections = list(range(0, num_sections))\n",
    "    cross_val_sections.remove(iteration)\n",
    "    test_data = data[iteration::num_sections] #iteration defines which segment will be the test set\n",
    "    training_setup='pd.concat(['\n",
    "    for section in cross_val_sections: #create the training set out of the rest of the data (this is much faster than .append)\n",
    "        training_setup+='data[{}::{}], '.format(section, num_sections)\n",
    "    training_setup=training_setup[:-2]+'])'\n",
    "    training_data=eval(training_setup) #evaluate the training creation\n",
    "    return training_data, test_data"
   ]
  },
  {
   "cell_type": "code",
   "execution_count": 3,
   "metadata": {},
   "outputs": [],
   "source": [
    "os.chdir('Downloads') #set the file directory\n",
    "cancer_data=pd.read_csv('breast-cancer-wisconsin.data', header=None) #load the data"
   ]
  },
  {
   "cell_type": "code",
   "execution_count": 4,
   "metadata": {},
   "outputs": [],
   "source": [
    "cancer_data.columns=['Sample ID', 'Clump thickness', 'Cell size uniformity', 'Cell shape uniformity', 'Marginal adhesion', \\\n",
    "                    'Single epithelial cell size', 'Bare nuclei', 'Bland Chromatin', 'Normal nucleoli', \\\n",
    "                    'Mitoses', 'Class'] #set the column names"
   ]
  },
  {
   "cell_type": "code",
   "execution_count": 5,
   "metadata": {},
   "outputs": [
    {
     "data": {
      "text/html": [
       "<div>\n",
       "<style scoped>\n",
       "    .dataframe tbody tr th:only-of-type {\n",
       "        vertical-align: middle;\n",
       "    }\n",
       "\n",
       "    .dataframe tbody tr th {\n",
       "        vertical-align: top;\n",
       "    }\n",
       "\n",
       "    .dataframe thead th {\n",
       "        text-align: right;\n",
       "    }\n",
       "</style>\n",
       "<table border=\"1\" class=\"dataframe\">\n",
       "  <thead>\n",
       "    <tr style=\"text-align: right;\">\n",
       "      <th></th>\n",
       "      <th>Sample ID</th>\n",
       "      <th>Clump thickness</th>\n",
       "      <th>Cell size uniformity</th>\n",
       "      <th>Cell shape uniformity</th>\n",
       "      <th>Marginal adhesion</th>\n",
       "      <th>Single epithelial cell size</th>\n",
       "      <th>Bland Chromatin</th>\n",
       "      <th>Normal nucleoli</th>\n",
       "      <th>Mitoses</th>\n",
       "      <th>Class</th>\n",
       "    </tr>\n",
       "  </thead>\n",
       "  <tbody>\n",
       "    <tr>\n",
       "      <th>count</th>\n",
       "      <td>6.990000e+02</td>\n",
       "      <td>699.000000</td>\n",
       "      <td>699.000000</td>\n",
       "      <td>699.000000</td>\n",
       "      <td>699.000000</td>\n",
       "      <td>699.000000</td>\n",
       "      <td>699.000000</td>\n",
       "      <td>699.000000</td>\n",
       "      <td>699.000000</td>\n",
       "      <td>699.000000</td>\n",
       "    </tr>\n",
       "    <tr>\n",
       "      <th>mean</th>\n",
       "      <td>1.071704e+06</td>\n",
       "      <td>4.417740</td>\n",
       "      <td>3.134478</td>\n",
       "      <td>3.207439</td>\n",
       "      <td>2.806867</td>\n",
       "      <td>3.216023</td>\n",
       "      <td>3.437768</td>\n",
       "      <td>2.866953</td>\n",
       "      <td>1.589413</td>\n",
       "      <td>2.689557</td>\n",
       "    </tr>\n",
       "    <tr>\n",
       "      <th>std</th>\n",
       "      <td>6.170957e+05</td>\n",
       "      <td>2.815741</td>\n",
       "      <td>3.051459</td>\n",
       "      <td>2.971913</td>\n",
       "      <td>2.855379</td>\n",
       "      <td>2.214300</td>\n",
       "      <td>2.438364</td>\n",
       "      <td>3.053634</td>\n",
       "      <td>1.715078</td>\n",
       "      <td>0.951273</td>\n",
       "    </tr>\n",
       "    <tr>\n",
       "      <th>min</th>\n",
       "      <td>6.163400e+04</td>\n",
       "      <td>1.000000</td>\n",
       "      <td>1.000000</td>\n",
       "      <td>1.000000</td>\n",
       "      <td>1.000000</td>\n",
       "      <td>1.000000</td>\n",
       "      <td>1.000000</td>\n",
       "      <td>1.000000</td>\n",
       "      <td>1.000000</td>\n",
       "      <td>2.000000</td>\n",
       "    </tr>\n",
       "    <tr>\n",
       "      <th>25%</th>\n",
       "      <td>8.706885e+05</td>\n",
       "      <td>2.000000</td>\n",
       "      <td>1.000000</td>\n",
       "      <td>1.000000</td>\n",
       "      <td>1.000000</td>\n",
       "      <td>2.000000</td>\n",
       "      <td>2.000000</td>\n",
       "      <td>1.000000</td>\n",
       "      <td>1.000000</td>\n",
       "      <td>2.000000</td>\n",
       "    </tr>\n",
       "    <tr>\n",
       "      <th>50%</th>\n",
       "      <td>1.171710e+06</td>\n",
       "      <td>4.000000</td>\n",
       "      <td>1.000000</td>\n",
       "      <td>1.000000</td>\n",
       "      <td>1.000000</td>\n",
       "      <td>2.000000</td>\n",
       "      <td>3.000000</td>\n",
       "      <td>1.000000</td>\n",
       "      <td>1.000000</td>\n",
       "      <td>2.000000</td>\n",
       "    </tr>\n",
       "    <tr>\n",
       "      <th>75%</th>\n",
       "      <td>1.238298e+06</td>\n",
       "      <td>6.000000</td>\n",
       "      <td>5.000000</td>\n",
       "      <td>5.000000</td>\n",
       "      <td>4.000000</td>\n",
       "      <td>4.000000</td>\n",
       "      <td>5.000000</td>\n",
       "      <td>4.000000</td>\n",
       "      <td>1.000000</td>\n",
       "      <td>4.000000</td>\n",
       "    </tr>\n",
       "    <tr>\n",
       "      <th>max</th>\n",
       "      <td>1.345435e+07</td>\n",
       "      <td>10.000000</td>\n",
       "      <td>10.000000</td>\n",
       "      <td>10.000000</td>\n",
       "      <td>10.000000</td>\n",
       "      <td>10.000000</td>\n",
       "      <td>10.000000</td>\n",
       "      <td>10.000000</td>\n",
       "      <td>10.000000</td>\n",
       "      <td>4.000000</td>\n",
       "    </tr>\n",
       "  </tbody>\n",
       "</table>\n",
       "</div>"
      ],
      "text/plain": [
       "          Sample ID  Clump thickness  Cell size uniformity  \\\n",
       "count  6.990000e+02       699.000000            699.000000   \n",
       "mean   1.071704e+06         4.417740              3.134478   \n",
       "std    6.170957e+05         2.815741              3.051459   \n",
       "min    6.163400e+04         1.000000              1.000000   \n",
       "25%    8.706885e+05         2.000000              1.000000   \n",
       "50%    1.171710e+06         4.000000              1.000000   \n",
       "75%    1.238298e+06         6.000000              5.000000   \n",
       "max    1.345435e+07        10.000000             10.000000   \n",
       "\n",
       "       Cell shape uniformity  Marginal adhesion  Single epithelial cell size  \\\n",
       "count             699.000000         699.000000                   699.000000   \n",
       "mean                3.207439           2.806867                     3.216023   \n",
       "std                 2.971913           2.855379                     2.214300   \n",
       "min                 1.000000           1.000000                     1.000000   \n",
       "25%                 1.000000           1.000000                     2.000000   \n",
       "50%                 1.000000           1.000000                     2.000000   \n",
       "75%                 5.000000           4.000000                     4.000000   \n",
       "max                10.000000          10.000000                    10.000000   \n",
       "\n",
       "       Bland Chromatin  Normal nucleoli     Mitoses       Class  \n",
       "count       699.000000       699.000000  699.000000  699.000000  \n",
       "mean          3.437768         2.866953    1.589413    2.689557  \n",
       "std           2.438364         3.053634    1.715078    0.951273  \n",
       "min           1.000000         1.000000    1.000000    2.000000  \n",
       "25%           2.000000         1.000000    1.000000    2.000000  \n",
       "50%           3.000000         1.000000    1.000000    2.000000  \n",
       "75%           5.000000         4.000000    1.000000    4.000000  \n",
       "max          10.000000        10.000000   10.000000    4.000000  "
      ]
     },
     "execution_count": 5,
     "metadata": {},
     "output_type": "execute_result"
    }
   ],
   "source": [
    "cancer_data.describe() #take a peak"
   ]
  },
  {
   "cell_type": "code",
   "execution_count": 6,
   "metadata": {},
   "outputs": [],
   "source": [
    "cancer_data['Class'] = [0 if x==2 else 1 for x in cancer_data['Class']] #turn target class into 1/0 instead of 2/4"
   ]
  },
  {
   "cell_type": "code",
   "execution_count": 7,
   "metadata": {},
   "outputs": [],
   "source": [
    "clean_cancer_data=cancer_data[cancer_data['Bare nuclei']!='?'] #get rid of erroneous data"
   ]
  },
  {
   "cell_type": "code",
   "execution_count": 8,
   "metadata": {},
   "outputs": [
    {
     "name": "stderr",
     "output_type": "stream",
     "text": [
      "C:\\Users\\Nick\\Anaconda3\\lib\\site-packages\\ipykernel_launcher.py:1: SettingWithCopyWarning: \n",
      "A value is trying to be set on a copy of a slice from a DataFrame.\n",
      "Try using .loc[row_indexer,col_indexer] = value instead\n",
      "\n",
      "See the caveats in the documentation: http://pandas.pydata.org/pandas-docs/stable/indexing.html#indexing-view-versus-copy\n",
      "  \"\"\"Entry point for launching an IPython kernel.\n"
     ]
    }
   ],
   "source": [
    "clean_cancer_data['Bare nuclei']=[int(x) for x in clean_cancer_data['Bare nuclei']] #convert to integers"
   ]
  },
  {
   "cell_type": "code",
   "execution_count": 9,
   "metadata": {},
   "outputs": [
    {
     "name": "stderr",
     "output_type": "stream",
     "text": [
      "C:\\Users\\Nick\\Anaconda3\\lib\\site-packages\\sklearn\\ensemble\\forest.py:246: FutureWarning: The default value of n_estimators will change from 10 in version 0.20 to 100 in 0.22.\n",
      "  \"10 in version 0.20 to 100 in 0.22.\", FutureWarning)\n"
     ]
    },
    {
     "name": "stdout",
     "output_type": "stream",
     "text": [
      "[0.028985507246376812, 0.07246376811594203, 0.028985507246376812, 0.04411764705882353, 0.029411764705882353, 0.029411764705882353, 0.04411764705882353, 0.0, 0.04411764705882353, 0.08823529411764706]\n",
      "0.040984654731457806\n",
      "Feature Weights\n",
      "0.05505046827995822 Clump thickness\n",
      "0.4186692618826403 Cell size uniformity\n",
      "0.1615206610489776 Cell shape uniformity\n",
      "0.023381296225998573 Marginal adhesion\n",
      "0.03794049631812178 Single epithelial cell size\n",
      "0.18017619301903734 Bare nuclei\n",
      "0.027054134147098487 Bland Chromatin\n",
      "0.08855118866977837 Normal nucleoli\n",
      "0.007656300408389237 Mitoses\n"
     ]
    }
   ],
   "source": [
    "#choose the model you'd like to use at the beginning\n",
    "\n",
    "#model=LogisticRegression()\n",
    "model=RandomForestClassifier()\n",
    "#model=GradientBoostingClassifier()\n",
    "\n",
    "cols_to_use=['Clump thickness', 'Cell size uniformity', 'Cell shape uniformity', 'Marginal adhesion', \\\n",
    "                    'Single epithelial cell size', 'Bare nuclei', 'Bland Chromatin', 'Normal nucleoli', \\\n",
    "                    'Mitoses'] #choose the columns to work with\n",
    "\n",
    "target_column = 'Class' #choose the target column\n",
    "\n",
    "mean_error=[]\n",
    "\n",
    "num_sections = 10 #number of sections for cross validation\n",
    "\n",
    "for i in list(range(0,num_sections)):\n",
    "    \n",
    "    training, test = cross_validation_split(clean_cancer_data, num_sections, i)\n",
    "\n",
    "    fit=model.fit(training[cols_to_use], training[target_column]) #fit the model on the training\n",
    "    prediction=fit.predict(test[cols_to_use]) #predict on the test\n",
    "    \n",
    "    mean_error.append(np.mean(np.abs(prediction-test[target_column]))) #compare the mean of test predicted to test actual\n",
    "    \n",
    "print(mean_error) #look at all the mean error\n",
    "print(np.mean(mean_error)) #look at the mean of the error\n",
    "\n",
    "#Feature weights are below, note that you will need to switch for different types of models\n",
    "print('Feature Weights')\n",
    "#for i in range(0, len(test[cols_to_use].keys())): print(fit.coef_[0][i], test[cols_to_use].keys()[i])\n",
    "for i in range(0, len(test[cols_to_use].keys())): print(fit.feature_importances_[i], test[cols_to_use].keys()[i])"
   ]
  },
  {
   "cell_type": "code",
   "execution_count": 10,
   "metadata": {},
   "outputs": [
    {
     "name": "stdout",
     "output_type": "stream",
     "text": [
      "True Positives: 18\n",
      "True Negatives: 44\n",
      "False Positives: 3\n",
      "False Negatives: 3\n"
     ]
    }
   ],
   "source": [
    "#calculate the values for a confusion matrix\n",
    "true_positive=np.sum([(y+z)==2 for y,z in zip(prediction, test[target_column])])\n",
    "print('True Positives: {}'.format(true_positive))\n",
    "true_negative=np.sum([(y+z)==0 for y,z in zip(prediction, test[target_column])])\n",
    "print('True Negatives: {}'.format(true_negative))\n",
    "false_positive=np.sum([(y-z)==1 for y,z in zip(prediction, test[target_column])])\n",
    "print('False Positives: {}'.format(false_positive))\n",
    "false_negative=np.sum([(y-z)==-1 for y,z in zip(prediction, test[target_column])])\n",
    "print('False Negatives: {}'.format(false_negative))"
   ]
  },
  {
   "cell_type": "code",
   "execution_count": 11,
   "metadata": {},
   "outputs": [
    {
     "name": "stdout",
     "output_type": "stream",
     "text": [
      "[0.04782608695652174, 0.06811594202898551, 0.04782608695652174, 0.05147058823529411, 0.05294117647058824, 0.06911764705882352, 0.07794117647058824, 0.029411764705882353, 0.04852941176470588, 0.0661764705882353]\n",
      "0.05593563512361467\n",
      "Feature Weights\n",
      "0.061615363349481686 Clump thickness\n",
      "0.32412987861246595 Cell size uniformity\n",
      "0.39732807255170344 Cell shape uniformity\n",
      "0.01963905099610124 Marginal adhesion\n",
      "0.01751078793366665 Single epithelial cell size\n",
      "0.07770996554867708 Bare nuclei\n",
      "0.07940959299694685 Bland Chromatin\n",
      "0.020968852442553924 Normal nucleoli\n",
      "0.0016884355684032549 Mitoses\n"
     ]
    },
    {
     "name": "stderr",
     "output_type": "stream",
     "text": [
      "C:\\Users\\Nick\\Anaconda3\\lib\\site-packages\\sklearn\\ensemble\\forest.py:246: FutureWarning: The default value of n_estimators will change from 10 in version 0.20 to 100 in 0.22.\n",
      "  \"10 in version 0.20 to 100 in 0.22.\", FutureWarning)\n"
     ]
    }
   ],
   "source": [
    "#For cancer, we may want to be more careful, to make sure we catch all the malignant tumors. So let's try again, this time\n",
    "#with a chance to control the threshold. We'll need to use regression this time\n",
    "\n",
    "#We'll pick a regression model this time\n",
    "\n",
    "#model=LogisticRegression()\n",
    "model=RandomForestRegressor()\n",
    "#model=GradientBoostingClassifier()\n",
    "\n",
    "cols_to_use=['Clump thickness', 'Cell size uniformity', 'Cell shape uniformity', 'Marginal adhesion', \\\n",
    "                    'Single epithelial cell size', 'Bare nuclei', 'Bland Chromatin', 'Normal nucleoli', \\\n",
    "                    'Mitoses'] #choose the columns to work with\n",
    "\n",
    "target_column = 'Class'#choose the target column\n",
    "\n",
    "mean_error=[]\n",
    "\n",
    "num_sections = 10 #number of sections for cross validation\n",
    "\n",
    "for i in list(range(0,num_sections)):\n",
    "    \n",
    "    training, test = cross_validation_split(clean_cancer_data, num_sections, i)\n",
    "\n",
    "    fit=model.fit(training[cols_to_use], training[target_column]) #fit the model on the training\n",
    "    prediction=fit.predict(test[cols_to_use]) #predict on the test\n",
    "    \n",
    "    mean_error.append(np.mean(np.abs(prediction-test[target_column]))) #compare the mean of test predicted to test actual\n",
    "    \n",
    "print(mean_error) #look at all the mean error\n",
    "print(np.mean(mean_error)) #look at the mean of the error\n",
    "print('Feature Weights')\n",
    "#for i in range(0, len(test[cols_to_use].keys())): print(fit.coef_[0][i], test[cols_to_use].keys()[i])\n",
    "for i in range(0, len(test[cols_to_use].keys())): print(fit.feature_importances_[i], test[cols_to_use].keys()[i])"
   ]
  },
  {
   "cell_type": "code",
   "execution_count": 12,
   "metadata": {},
   "outputs": [],
   "source": [
    "#let's look at the confusion matrix values for different cutoff thresholds\n",
    "\n",
    "true_positive=[]\n",
    "false_positive=[]\n",
    "true_negative=[]\n",
    "false_negative=[]\n",
    "for threshold in list(range(-1,102)):\n",
    "    true_positive.append(np.sum([(y+z)==2 for y,z in zip([int(x>threshold/100) for x in prediction], test[target_column])]))\n",
    "    true_negative.append(np.sum([(y+z)==0 for y,z in zip([int(x>threshold/100) for x in prediction], test[target_column])]))\n",
    "    false_positive.append(np.sum([(y-z)==1 for y,z in zip([int(x>threshold/100) for x in prediction], test[target_column])]))\n",
    "    false_negative.append(np.sum([(y-z)==-1 for y,z in zip([int(x>threshold/100) for x in prediction], test[target_column])]))"
   ]
  },
  {
   "cell_type": "code",
   "execution_count": 13,
   "metadata": {},
   "outputs": [
    {
     "data": {
      "text/plain": [
       "Text(0, 0.5, 'True Positive Rate')"
      ]
     },
     "execution_count": 13,
     "metadata": {},
     "output_type": "execute_result"
    },
    {
     "data": {
      "image/png": "[encoded data removed]",
      "text/plain": [
       "<Figure size 432x288 with 1 Axes>"
      ]
     },
     "metadata": {
      "needs_background": "light"
     },
     "output_type": "display_data"
    }
   ],
   "source": [
    "#and let's use those values to plot an ROC curve\n",
    "\n",
    "plt.plot([x/(x+y) for x,y in zip(false_positive, true_negative)],[x/(x+y) for x,y in zip(true_positive, false_negative)], 'b')\n",
    "plt.title('ROC curve for tumor diagnosis')\n",
    "plt.xlabel('False Positive Rate')\n",
    "plt.ylabel('True Positive Rate')"
   ]
  },
  {
   "cell_type": "code",
   "execution_count": null,
   "metadata": {},
   "outputs": [],
   "source": []
  }
 ],
 "metadata": {
  "kernelspec": {
   "display_name": "Python 3",
   "language": "python",
   "name": "python3"
  },
  "language_info": {
   "codemirror_mode": {
    "name": "ipython",
    "version": 3
   },
   "file_extension": ".py",
   "mimetype": "text/x-python",
   "name": "python",
   "nbconvert_exporter": "python",
   "pygments_lexer": "ipython3",
   "version": "3.7.3"
  }
 },
 "nbformat": 4,
 "nbformat_minor": 2
}
